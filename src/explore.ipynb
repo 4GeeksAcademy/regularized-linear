{
    "cells": [
        {
            "cell_type": "markdown",
            "metadata": {},
            "source": [
                "# Explore here"
            ]
        },
        {
            "cell_type": "code",
            "execution_count": 4,
            "metadata": {},
            "outputs": [],
            "source": [
                "import pandas as pd\n",
                "import numpy as np \n",
                "import matplotlib.pyplot as plt\n",
                "import seaborn as sns"
            ]
        },
        {
            "cell_type": "code",
            "execution_count": 10,
            "metadata": {},
            "outputs": [],
            "source": [
                "ins_df = pd.read_csv('https://raw.githubusercontent.com/4GeeksAcademy/regularized-linear-regression-project-tutorial/main/demographic_health_data.csv')"
            ]
        },
        {
            "cell_type": "code",
            "execution_count": 12,
            "metadata": {},
            "outputs": [],
            "source": [
                "drop_list = ['COUNTY_NAME', 'STATE_NAME', 'fips', 'Heart disease_prevalence', 'Heart disease_Lower 95% CI', 'Heart disease_Upper 95% CI']\n",
                "ins_df = ins_df.drop(columns=drop_list)"
            ]
        },
        {
            "cell_type": "code",
            "execution_count": 13,
            "metadata": {},
            "outputs": [
                {
                    "data": {
                        "text/html": [
                            "<div>\n",
                            "<style scoped>\n",
                            "    .dataframe tbody tr th:only-of-type {\n",
                            "        vertical-align: middle;\n",
                            "    }\n",
                            "\n",
                            "    .dataframe tbody tr th {\n",
                            "        vertical-align: top;\n",
                            "    }\n",
                            "\n",
                            "    .dataframe thead th {\n",
                            "        text-align: right;\n",
                            "    }\n",
                            "</style>\n",
                            "<table border=\"1\" class=\"dataframe\">\n",
                            "  <thead>\n",
                            "    <tr style=\"text-align: right;\">\n",
                            "      <th></th>\n",
                            "      <th>TOT_POP</th>\n",
                            "      <th>0-9</th>\n",
                            "      <th>0-9 y/o % of total pop</th>\n",
                            "      <th>19-Oct</th>\n",
                            "      <th>10-19 y/o % of total pop</th>\n",
                            "      <th>20-29</th>\n",
                            "      <th>20-29 y/o % of total pop</th>\n",
                            "      <th>30-39</th>\n",
                            "      <th>30-39 y/o % of total pop</th>\n",
                            "      <th>40-49</th>\n",
                            "      <th>...</th>\n",
                            "      <th>COPD_number</th>\n",
                            "      <th>diabetes_prevalence</th>\n",
                            "      <th>diabetes_Lower 95% CI</th>\n",
                            "      <th>diabetes_Upper 95% CI</th>\n",
                            "      <th>diabetes_number</th>\n",
                            "      <th>CKD_prevalence</th>\n",
                            "      <th>CKD_Lower 95% CI</th>\n",
                            "      <th>CKD_Upper 95% CI</th>\n",
                            "      <th>CKD_number</th>\n",
                            "      <th>Urban_rural_code</th>\n",
                            "    </tr>\n",
                            "  </thead>\n",
                            "  <tbody>\n",
                            "    <tr>\n",
                            "      <th>0</th>\n",
                            "      <td>55601</td>\n",
                            "      <td>6787</td>\n",
                            "      <td>12.206615</td>\n",
                            "      <td>7637</td>\n",
                            "      <td>13.735364</td>\n",
                            "      <td>6878</td>\n",
                            "      <td>12.370281</td>\n",
                            "      <td>7089</td>\n",
                            "      <td>12.749771</td>\n",
                            "      <td>7582</td>\n",
                            "      <td>...</td>\n",
                            "      <td>3644</td>\n",
                            "      <td>12.9</td>\n",
                            "      <td>11.9</td>\n",
                            "      <td>13.8</td>\n",
                            "      <td>5462</td>\n",
                            "      <td>3.1</td>\n",
                            "      <td>2.9</td>\n",
                            "      <td>3.3</td>\n",
                            "      <td>1326</td>\n",
                            "      <td>3</td>\n",
                            "    </tr>\n",
                            "    <tr>\n",
                            "      <th>1</th>\n",
                            "      <td>218022</td>\n",
                            "      <td>24757</td>\n",
                            "      <td>11.355276</td>\n",
                            "      <td>26913</td>\n",
                            "      <td>12.344167</td>\n",
                            "      <td>23579</td>\n",
                            "      <td>10.814964</td>\n",
                            "      <td>25213</td>\n",
                            "      <td>11.564429</td>\n",
                            "      <td>27338</td>\n",
                            "      <td>...</td>\n",
                            "      <td>14692</td>\n",
                            "      <td>12.0</td>\n",
                            "      <td>11.0</td>\n",
                            "      <td>13.1</td>\n",
                            "      <td>20520</td>\n",
                            "      <td>3.2</td>\n",
                            "      <td>3.0</td>\n",
                            "      <td>3.5</td>\n",
                            "      <td>5479</td>\n",
                            "      <td>4</td>\n",
                            "    </tr>\n",
                            "    <tr>\n",
                            "      <th>2</th>\n",
                            "      <td>24881</td>\n",
                            "      <td>2732</td>\n",
                            "      <td>10.980266</td>\n",
                            "      <td>2960</td>\n",
                            "      <td>11.896628</td>\n",
                            "      <td>3268</td>\n",
                            "      <td>13.134520</td>\n",
                            "      <td>3201</td>\n",
                            "      <td>12.865239</td>\n",
                            "      <td>3074</td>\n",
                            "      <td>...</td>\n",
                            "      <td>2373</td>\n",
                            "      <td>19.7</td>\n",
                            "      <td>18.6</td>\n",
                            "      <td>20.6</td>\n",
                            "      <td>3870</td>\n",
                            "      <td>4.5</td>\n",
                            "      <td>4.2</td>\n",
                            "      <td>4.8</td>\n",
                            "      <td>887</td>\n",
                            "      <td>6</td>\n",
                            "    </tr>\n",
                            "    <tr>\n",
                            "      <th>3</th>\n",
                            "      <td>22400</td>\n",
                            "      <td>2456</td>\n",
                            "      <td>10.964286</td>\n",
                            "      <td>2596</td>\n",
                            "      <td>11.589286</td>\n",
                            "      <td>3029</td>\n",
                            "      <td>13.522321</td>\n",
                            "      <td>3113</td>\n",
                            "      <td>13.897321</td>\n",
                            "      <td>3038</td>\n",
                            "      <td>...</td>\n",
                            "      <td>1789</td>\n",
                            "      <td>14.1</td>\n",
                            "      <td>13.2</td>\n",
                            "      <td>14.9</td>\n",
                            "      <td>2511</td>\n",
                            "      <td>3.3</td>\n",
                            "      <td>3.1</td>\n",
                            "      <td>3.6</td>\n",
                            "      <td>595</td>\n",
                            "      <td>2</td>\n",
                            "    </tr>\n",
                            "    <tr>\n",
                            "      <th>4</th>\n",
                            "      <td>57840</td>\n",
                            "      <td>7095</td>\n",
                            "      <td>12.266598</td>\n",
                            "      <td>7570</td>\n",
                            "      <td>13.087828</td>\n",
                            "      <td>6742</td>\n",
                            "      <td>11.656293</td>\n",
                            "      <td>6884</td>\n",
                            "      <td>11.901798</td>\n",
                            "      <td>7474</td>\n",
                            "      <td>...</td>\n",
                            "      <td>4661</td>\n",
                            "      <td>13.5</td>\n",
                            "      <td>12.6</td>\n",
                            "      <td>14.5</td>\n",
                            "      <td>6017</td>\n",
                            "      <td>3.4</td>\n",
                            "      <td>3.2</td>\n",
                            "      <td>3.7</td>\n",
                            "      <td>1507</td>\n",
                            "      <td>2</td>\n",
                            "    </tr>\n",
                            "    <tr>\n",
                            "      <th>...</th>\n",
                            "      <td>...</td>\n",
                            "      <td>...</td>\n",
                            "      <td>...</td>\n",
                            "      <td>...</td>\n",
                            "      <td>...</td>\n",
                            "      <td>...</td>\n",
                            "      <td>...</td>\n",
                            "      <td>...</td>\n",
                            "      <td>...</td>\n",
                            "      <td>...</td>\n",
                            "      <td>...</td>\n",
                            "      <td>...</td>\n",
                            "      <td>...</td>\n",
                            "      <td>...</td>\n",
                            "      <td>...</td>\n",
                            "      <td>...</td>\n",
                            "      <td>...</td>\n",
                            "      <td>...</td>\n",
                            "      <td>...</td>\n",
                            "      <td>...</td>\n",
                            "      <td>...</td>\n",
                            "    </tr>\n",
                            "    <tr>\n",
                            "      <th>3135</th>\n",
                            "      <td>43051</td>\n",
                            "      <td>6104</td>\n",
                            "      <td>14.178532</td>\n",
                            "      <td>6326</td>\n",
                            "      <td>14.694200</td>\n",
                            "      <td>5359</td>\n",
                            "      <td>12.448027</td>\n",
                            "      <td>6577</td>\n",
                            "      <td>15.277229</td>\n",
                            "      <td>5334</td>\n",
                            "      <td>...</td>\n",
                            "      <td>2098</td>\n",
                            "      <td>8.9</td>\n",
                            "      <td>8.3</td>\n",
                            "      <td>9.6</td>\n",
                            "      <td>2834</td>\n",
                            "      <td>2.6</td>\n",
                            "      <td>2.4</td>\n",
                            "      <td>2.8</td>\n",
                            "      <td>821</td>\n",
                            "      <td>5</td>\n",
                            "    </tr>\n",
                            "    <tr>\n",
                            "      <th>3136</th>\n",
                            "      <td>23081</td>\n",
                            "      <td>2384</td>\n",
                            "      <td>10.328842</td>\n",
                            "      <td>2185</td>\n",
                            "      <td>9.466661</td>\n",
                            "      <td>2967</td>\n",
                            "      <td>12.854729</td>\n",
                            "      <td>4093</td>\n",
                            "      <td>17.733200</td>\n",
                            "      <td>3423</td>\n",
                            "      <td>...</td>\n",
                            "      <td>928</td>\n",
                            "      <td>7.2</td>\n",
                            "      <td>6.5</td>\n",
                            "      <td>8.0</td>\n",
                            "      <td>1360</td>\n",
                            "      <td>2.4</td>\n",
                            "      <td>2.2</td>\n",
                            "      <td>2.6</td>\n",
                            "      <td>447</td>\n",
                            "      <td>5</td>\n",
                            "    </tr>\n",
                            "    <tr>\n",
                            "      <th>3137</th>\n",
                            "      <td>20299</td>\n",
                            "      <td>3121</td>\n",
                            "      <td>15.375142</td>\n",
                            "      <td>3205</td>\n",
                            "      <td>15.788955</td>\n",
                            "      <td>2153</td>\n",
                            "      <td>10.606434</td>\n",
                            "      <td>2702</td>\n",
                            "      <td>13.311001</td>\n",
                            "      <td>2390</td>\n",
                            "      <td>...</td>\n",
                            "      <td>1163</td>\n",
                            "      <td>10.4</td>\n",
                            "      <td>9.5</td>\n",
                            "      <td>11.2</td>\n",
                            "      <td>1500</td>\n",
                            "      <td>3.0</td>\n",
                            "      <td>2.8</td>\n",
                            "      <td>3.2</td>\n",
                            "      <td>430</td>\n",
                            "      <td>5</td>\n",
                            "    </tr>\n",
                            "    <tr>\n",
                            "      <th>3138</th>\n",
                            "      <td>7885</td>\n",
                            "      <td>858</td>\n",
                            "      <td>10.881420</td>\n",
                            "      <td>1113</td>\n",
                            "      <td>14.115409</td>\n",
                            "      <td>715</td>\n",
                            "      <td>9.067850</td>\n",
                            "      <td>903</td>\n",
                            "      <td>11.452124</td>\n",
                            "      <td>900</td>\n",
                            "      <td>...</td>\n",
                            "      <td>506</td>\n",
                            "      <td>11.3</td>\n",
                            "      <td>10.3</td>\n",
                            "      <td>12.1</td>\n",
                            "      <td>686</td>\n",
                            "      <td>3.4</td>\n",
                            "      <td>3.2</td>\n",
                            "      <td>3.7</td>\n",
                            "      <td>207</td>\n",
                            "      <td>6</td>\n",
                            "    </tr>\n",
                            "    <tr>\n",
                            "      <th>3139</th>\n",
                            "      <td>6967</td>\n",
                            "      <td>780</td>\n",
                            "      <td>11.195637</td>\n",
                            "      <td>779</td>\n",
                            "      <td>11.181283</td>\n",
                            "      <td>681</td>\n",
                            "      <td>9.774652</td>\n",
                            "      <td>906</td>\n",
                            "      <td>13.004162</td>\n",
                            "      <td>734</td>\n",
                            "      <td>...</td>\n",
                            "      <td>480</td>\n",
                            "      <td>11.7</td>\n",
                            "      <td>10.7</td>\n",
                            "      <td>12.7</td>\n",
                            "      <td>644</td>\n",
                            "      <td>3.4</td>\n",
                            "      <td>3.1</td>\n",
                            "      <td>3.6</td>\n",
                            "      <td>185</td>\n",
                            "      <td>6</td>\n",
                            "    </tr>\n",
                            "  </tbody>\n",
                            "</table>\n",
                            "<p>3140 rows × 102 columns</p>\n",
                            "</div>"
                        ],
                        "text/plain": [
                            "      TOT_POP    0-9  0-9 y/o % of total pop  19-Oct  \\\n",
                            "0       55601   6787               12.206615    7637   \n",
                            "1      218022  24757               11.355276   26913   \n",
                            "2       24881   2732               10.980266    2960   \n",
                            "3       22400   2456               10.964286    2596   \n",
                            "4       57840   7095               12.266598    7570   \n",
                            "...       ...    ...                     ...     ...   \n",
                            "3135    43051   6104               14.178532    6326   \n",
                            "3136    23081   2384               10.328842    2185   \n",
                            "3137    20299   3121               15.375142    3205   \n",
                            "3138     7885    858               10.881420    1113   \n",
                            "3139     6967    780               11.195637     779   \n",
                            "\n",
                            "      10-19 y/o % of total pop  20-29  20-29 y/o % of total pop  30-39  \\\n",
                            "0                    13.735364   6878                 12.370281   7089   \n",
                            "1                    12.344167  23579                 10.814964  25213   \n",
                            "2                    11.896628   3268                 13.134520   3201   \n",
                            "3                    11.589286   3029                 13.522321   3113   \n",
                            "4                    13.087828   6742                 11.656293   6884   \n",
                            "...                        ...    ...                       ...    ...   \n",
                            "3135                 14.694200   5359                 12.448027   6577   \n",
                            "3136                  9.466661   2967                 12.854729   4093   \n",
                            "3137                 15.788955   2153                 10.606434   2702   \n",
                            "3138                 14.115409    715                  9.067850    903   \n",
                            "3139                 11.181283    681                  9.774652    906   \n",
                            "\n",
                            "      30-39 y/o % of total pop  40-49  ...  COPD_number  diabetes_prevalence  \\\n",
                            "0                    12.749771   7582  ...         3644                 12.9   \n",
                            "1                    11.564429  27338  ...        14692                 12.0   \n",
                            "2                    12.865239   3074  ...         2373                 19.7   \n",
                            "3                    13.897321   3038  ...         1789                 14.1   \n",
                            "4                    11.901798   7474  ...         4661                 13.5   \n",
                            "...                        ...    ...  ...          ...                  ...   \n",
                            "3135                 15.277229   5334  ...         2098                  8.9   \n",
                            "3136                 17.733200   3423  ...          928                  7.2   \n",
                            "3137                 13.311001   2390  ...         1163                 10.4   \n",
                            "3138                 11.452124    900  ...          506                 11.3   \n",
                            "3139                 13.004162    734  ...          480                 11.7   \n",
                            "\n",
                            "      diabetes_Lower 95% CI  diabetes_Upper 95% CI  diabetes_number  \\\n",
                            "0                      11.9                   13.8             5462   \n",
                            "1                      11.0                   13.1            20520   \n",
                            "2                      18.6                   20.6             3870   \n",
                            "3                      13.2                   14.9             2511   \n",
                            "4                      12.6                   14.5             6017   \n",
                            "...                     ...                    ...              ...   \n",
                            "3135                    8.3                    9.6             2834   \n",
                            "3136                    6.5                    8.0             1360   \n",
                            "3137                    9.5                   11.2             1500   \n",
                            "3138                   10.3                   12.1              686   \n",
                            "3139                   10.7                   12.7              644   \n",
                            "\n",
                            "      CKD_prevalence  CKD_Lower 95% CI  CKD_Upper 95% CI  CKD_number  \\\n",
                            "0                3.1               2.9               3.3        1326   \n",
                            "1                3.2               3.0               3.5        5479   \n",
                            "2                4.5               4.2               4.8         887   \n",
                            "3                3.3               3.1               3.6         595   \n",
                            "4                3.4               3.2               3.7        1507   \n",
                            "...              ...               ...               ...         ...   \n",
                            "3135             2.6               2.4               2.8         821   \n",
                            "3136             2.4               2.2               2.6         447   \n",
                            "3137             3.0               2.8               3.2         430   \n",
                            "3138             3.4               3.2               3.7         207   \n",
                            "3139             3.4               3.1               3.6         185   \n",
                            "\n",
                            "      Urban_rural_code  \n",
                            "0                    3  \n",
                            "1                    4  \n",
                            "2                    6  \n",
                            "3                    2  \n",
                            "4                    2  \n",
                            "...                ...  \n",
                            "3135                 5  \n",
                            "3136                 5  \n",
                            "3137                 5  \n",
                            "3138                 6  \n",
                            "3139                 6  \n",
                            "\n",
                            "[3140 rows x 102 columns]"
                        ]
                    },
                    "execution_count": 13,
                    "metadata": {},
                    "output_type": "execute_result"
                }
            ],
            "source": [
                "ins_df"
            ]
        },
        {
            "cell_type": "markdown",
            "metadata": {},
            "source": [
                "Split into x and y\n"
            ]
        },
        {
            "cell_type": "code",
            "execution_count": 15,
            "metadata": {},
            "outputs": [],
            "source": [
                "y = ins_df['Heart disease_number']\n",
                "X = ins_df.drop(columns=['Heart disease_number'])"
            ]
        },
        {
            "cell_type": "markdown",
            "metadata": {},
            "source": [
                "Split into training and testing datasets"
            ]
        },
        {
            "cell_type": "code",
            "execution_count": 19,
            "metadata": {},
            "outputs": [],
            "source": [
                "from sklearn.model_selection import train_test_split\n"
            ]
        },
        {
            "cell_type": "code",
            "execution_count": 20,
            "metadata": {},
            "outputs": [],
            "source": [
                "X_train, X_test, y_train, y_test = train_test_split(X, y, random_state=104)"
            ]
        },
        {
            "cell_type": "code",
            "execution_count": 23,
            "metadata": {},
            "outputs": [
                {
                    "name": "stdout",
                    "output_type": "stream",
                    "text": [
                        "(2355, 101)\n",
                        "(2355,)\n",
                        "(785, 101)\n",
                        "(785,)\n"
                    ]
                }
            ],
            "source": [
                "print(X_train.shape)\n",
                "print(y_train.shape)\n",
                "print(X_test.shape)\n",
                "print(y_test.shape)"
            ]
        },
        {
            "cell_type": "markdown",
            "metadata": {},
            "source": [
                "### Let's create 3 different models\n",
                "Linear regression, Lasso Regression, RIDGE Regression"
            ]
        },
        {
            "cell_type": "markdown",
            "metadata": {},
            "source": [
                "## Linear regression:"
            ]
        },
        {
            "cell_type": "code",
            "execution_count": 24,
            "metadata": {},
            "outputs": [],
            "source": [
                "from sklearn.linear_model import LinearRegression"
            ]
        },
        {
            "cell_type": "code",
            "execution_count": 26,
            "metadata": {},
            "outputs": [],
            "source": [
                "linreg_model = LinearRegression()\n",
                "\n",
                "#fit with training data\n",
                "linreg_model.fit(X_train, y_train)\n",
                "\n",
                "#make two sets of predictions\n",
                "\n",
                "#training and testing\n",
                "train_preds = linreg_model.predict(X_train)\n",
                "test_test = linreg_model.predict(X_test)"
            ]
        },
        {
            "cell_type": "code",
            "execution_count": 28,
            "metadata": {},
            "outputs": [
                {
                    "name": "stdout",
                    "output_type": "stream",
                    "text": [
                        "Training set R2 score: 0.9994560947961432\n",
                        "Mean Absolute Error on training set: 180.7510503748673\n",
                        "Root Mean Squared Error on testing set: 146331.38304839237\n"
                    ]
                }
            ],
            "source": [
                "from sklearn.metrics import r2_score, mean_absolute_error, mean_squared_error\n",
                "\n",
                "print(f\"Training set R2 score: {r2_score(y_train, train_preds)}\")\n",
                "print(f\"Mean Absolute Error on training set: {mean_absolute_error(y_train, train_preds)}\")\n",
                "print(f\"Root Mean Squared Error on testing set: {mean_squared_error(y_train, train_preds)}\")"
            ]
        },
        {
            "cell_type": "code",
            "execution_count": null,
            "metadata": {},
            "outputs": [],
            "source": [
                "print(f\"Training set R2 score: {r2_score(y_train, train_preds)}\")\n",
                "print(f\"Mean Absolute Error on training set: {mean_absolute_error(y_train, train_preds)}\")\n",
                "print(f\"Root Mean Squared Error on testing set: {mean_squared_error(y_train, train_preds)}\")"
            ]
        },
        {
            "cell_type": "markdown",
            "metadata": {},
            "source": [
                "Visualize how well my predictions line up with actual values "
            ]
        },
        {
            "cell_type": "markdown",
            "metadata": {},
            "source": []
        },
        {
            "cell_type": "markdown",
            "metadata": {},
            "source": [
                "# Lasso Regression"
            ]
        },
        {
            "cell_type": "code",
            "execution_count": 29,
            "metadata": {},
            "outputs": [],
            "source": [
                "from sklearn.linear_model import Lasso\n"
            ]
        },
        {
            "cell_type": "code",
            "execution_count": 32,
            "metadata": {},
            "outputs": [
                {
                    "name": "stderr",
                    "output_type": "stream",
                    "text": [
                        "/home/vscode/.local/lib/python3.10/site-packages/sklearn/linear_model/_coordinate_descent.py:678: ConvergenceWarning: Objective did not converge. You might want to increase the number of iterations, check the scale of the features or consider increasing regularisation. Duality gap: 2.513e+08, tolerance: 6.336e+07\n",
                        "  model = cd_fast.enet_coordinate_descent(\n"
                    ]
                }
            ],
            "source": [
                "lasso_model = Lasso()\n",
                "lasso_model.fit(X_train, y_train)\n",
                "\n",
                "lasso_train_preds = lasso_model.predict(X_train)\n",
                "lasso_test_preds = lasso_model.predict(X_test)"
            ]
        },
        {
            "cell_type": "code",
            "execution_count": 33,
            "metadata": {},
            "outputs": [
                {
                    "ename": "NameError",
                    "evalue": "name 'GridSearchCV' is not defined",
                    "output_type": "error",
                    "traceback": [
                        "\u001b[0;31m---------------------------------------------------------------------------\u001b[0m",
                        "\u001b[0;31mNameError\u001b[0m                                 Traceback (most recent call last)",
                        "Cell \u001b[0;32mIn[33], line 3\u001b[0m\n\u001b[1;32m      1\u001b[0m hyperparameters \u001b[38;5;241m=\u001b[39m {\u001b[38;5;124m'\u001b[39m\u001b[38;5;124malpha\u001b[39m\u001b[38;5;124m'\u001b[39m : [\u001b[38;5;241m0\u001b[39m, \u001b[38;5;241m0.1\u001b[39m, \u001b[38;5;241m1\u001b[39m, \u001b[38;5;241m10\u001b[39m, \u001b[38;5;241m100\u001b[39m], \u001b[38;5;124m'\u001b[39m\u001b[38;5;124mmax_iter\u001b[39m\u001b[38;5;124m'\u001b[39m : [\u001b[38;5;241m50\u001b[39m, \u001b[38;5;241m100\u001b[39m, \u001b[38;5;241m500\u001b[39m, \u001b[38;5;241m1000\u001b[39m, \u001b[38;5;241m2000\u001b[39m, \u001b[38;5;241m5000\u001b[39m]}\n\u001b[0;32m----> 3\u001b[0m grid_model \u001b[38;5;241m=\u001b[39m \u001b[43mGridSearchCV\u001b[49m(Lasso(), param_grid\u001b[38;5;241m=\u001b[39mhyperparameters, scoring\u001b[38;5;241m=\u001b[39m\u001b[38;5;124m'\u001b[39m\u001b[38;5;124mneg_root_mean_squared_error\u001b[39m\u001b[38;5;124m'\u001b[39m)\n",
                        "\u001b[0;31mNameError\u001b[0m: name 'GridSearchCV' is not defined"
                    ]
                }
            ],
            "source": [
                "hyperparameters = {'alpha' : [0, 0.1, 1, 10, 100], 'max_iter' : [50, 100, 500, 1000, 2000, 5000]}\n",
                "\n",
                "grid_model = GridSearchCV(Lasso(), param_grid=hyperparameters, scoring='neg_root_mean_squared_error')\n",
                "\n",
                "grid_model.fit(X_train, y_train)"
            ]
        },
        {
            "cell_type": "markdown",
            "metadata": {},
            "source": [
                "# Ridge model"
            ]
        },
        {
            "cell_type": "code",
            "execution_count": 34,
            "metadata": {},
            "outputs": [
                {
                    "ename": "NameError",
                    "evalue": "name 'Ridge' is not defined",
                    "output_type": "error",
                    "traceback": [
                        "\u001b[0;31m---------------------------------------------------------------------------\u001b[0m",
                        "\u001b[0;31mNameError\u001b[0m                                 Traceback (most recent call last)",
                        "Cell \u001b[0;32mIn[34], line 1\u001b[0m\n\u001b[0;32m----> 1\u001b[0m ridge_model \u001b[38;5;241m=\u001b[39m \u001b[43mRidge\u001b[49m()\n\u001b[1;32m      3\u001b[0m ridge_model,fit(X_train, y_train)\n",
                        "\u001b[0;31mNameError\u001b[0m: name 'Ridge' is not defined"
                    ]
                }
            ],
            "source": [
                "ridge_model = Ridge()\n",
                "\n",
                "ridge_model,fit(X_train, y_train)\n",
                "\n"
            ]
        },
        {
            "cell_type": "code",
            "execution_count": null,
            "metadata": {},
            "outputs": [],
            "source": []
        }
    ],
    "metadata": {
        "kernelspec": {
            "display_name": "Python 3.8.13 64-bit ('3.8.13')",
            "language": "python",
            "name": "python3"
        },
        "language_info": {
            "codemirror_mode": {
                "name": "ipython",
                "version": 3
            },
            "file_extension": ".py",
            "mimetype": "text/x-python",
            "name": "python",
            "nbconvert_exporter": "python",
            "pygments_lexer": "ipython3",
            "version": "3.10.12"
        },
        "orig_nbformat": 4,
        "vscode": {
            "interpreter": {
                "hash": "110cc1dee26208153f2972f08a2ad52b6a56238dc66d48e87fb757ef2996db56"
            }
        }
    },
    "nbformat": 4,
    "nbformat_minor": 2
}
